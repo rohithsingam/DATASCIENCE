{
 "cells": [
  {
   "cell_type": "code",
   "execution_count": 1,
   "metadata": {},
   "outputs": [],
   "source": [
    "import pandas as pd\n",
    "import numpy as np"
   ]
  },
  {
   "cell_type": "code",
   "execution_count": 3,
   "metadata": {},
   "outputs": [],
   "source": [
    "df=pd.read_csv('Obesity_ds.csv')"
   ]
  },
  {
   "cell_type": "code",
   "execution_count": 55,
   "metadata": {},
   "outputs": [
    {
     "data": {
      "text/plain": [
       "(24945, 6)"
      ]
     },
     "execution_count": 55,
     "metadata": {},
     "output_type": "execute_result"
    }
   ],
   "source": [
    "df.shape"
   ]
  },
  {
   "cell_type": "code",
   "execution_count": 3,
   "metadata": {},
   "outputs": [
    {
     "data": {
      "text/html": [
       "<div>\n",
       "<style scoped>\n",
       "    .dataframe tbody tr th:only-of-type {\n",
       "        vertical-align: middle;\n",
       "    }\n",
       "\n",
       "    .dataframe tbody tr th {\n",
       "        vertical-align: top;\n",
       "    }\n",
       "\n",
       "    .dataframe thead th {\n",
       "        text-align: right;\n",
       "    }\n",
       "</style>\n",
       "<table border=\"1\" class=\"dataframe\">\n",
       "  <thead>\n",
       "    <tr style=\"text-align: right;\">\n",
       "      <th></th>\n",
       "      <th>Unnamed: 0</th>\n",
       "      <th>2016</th>\n",
       "      <th>2016.1</th>\n",
       "      <th>2016.2</th>\n",
       "      <th>2015</th>\n",
       "      <th>2015.1</th>\n",
       "      <th>2015.2</th>\n",
       "      <th>2014</th>\n",
       "      <th>2014.1</th>\n",
       "      <th>2014.2</th>\n",
       "      <th>...</th>\n",
       "      <th>1978.2</th>\n",
       "      <th>1977</th>\n",
       "      <th>1977.1</th>\n",
       "      <th>1977.2</th>\n",
       "      <th>1976</th>\n",
       "      <th>1976.1</th>\n",
       "      <th>1976.2</th>\n",
       "      <th>1975</th>\n",
       "      <th>1975.1</th>\n",
       "      <th>1975.2</th>\n",
       "    </tr>\n",
       "  </thead>\n",
       "  <tbody>\n",
       "    <tr>\n",
       "      <th>0</th>\n",
       "      <td>NaN</td>\n",
       "      <td>Prevalence of obesity among adults, BMI &amp;Great...</td>\n",
       "      <td>Prevalence of obesity among adults, BMI &amp;Great...</td>\n",
       "      <td>Prevalence of obesity among adults, BMI &amp;Great...</td>\n",
       "      <td>Prevalence of obesity among adults, BMI &amp;Great...</td>\n",
       "      <td>Prevalence of obesity among adults, BMI &amp;Great...</td>\n",
       "      <td>Prevalence of obesity among adults, BMI &amp;Great...</td>\n",
       "      <td>Prevalence of obesity among adults, BMI &amp;Great...</td>\n",
       "      <td>Prevalence of obesity among adults, BMI &amp;Great...</td>\n",
       "      <td>Prevalence of obesity among adults, BMI &amp;Great...</td>\n",
       "      <td>...</td>\n",
       "      <td>Prevalence of obesity among adults, BMI &amp;Great...</td>\n",
       "      <td>Prevalence of obesity among adults, BMI &amp;Great...</td>\n",
       "      <td>Prevalence of obesity among adults, BMI &amp;Great...</td>\n",
       "      <td>Prevalence of obesity among adults, BMI &amp;Great...</td>\n",
       "      <td>Prevalence of obesity among adults, BMI &amp;Great...</td>\n",
       "      <td>Prevalence of obesity among adults, BMI &amp;Great...</td>\n",
       "      <td>Prevalence of obesity among adults, BMI &amp;Great...</td>\n",
       "      <td>Prevalence of obesity among adults, BMI &amp;Great...</td>\n",
       "      <td>Prevalence of obesity among adults, BMI &amp;Great...</td>\n",
       "      <td>Prevalence of obesity among adults, BMI &amp;Great...</td>\n",
       "    </tr>\n",
       "    <tr>\n",
       "      <th>1</th>\n",
       "      <td>NaN</td>\n",
       "      <td>18+  years</td>\n",
       "      <td>18+  years</td>\n",
       "      <td>18+  years</td>\n",
       "      <td>18+  years</td>\n",
       "      <td>18+  years</td>\n",
       "      <td>18+  years</td>\n",
       "      <td>18+  years</td>\n",
       "      <td>18+  years</td>\n",
       "      <td>18+  years</td>\n",
       "      <td>...</td>\n",
       "      <td>18+  years</td>\n",
       "      <td>18+  years</td>\n",
       "      <td>18+  years</td>\n",
       "      <td>18+  years</td>\n",
       "      <td>18+  years</td>\n",
       "      <td>18+  years</td>\n",
       "      <td>18+  years</td>\n",
       "      <td>18+  years</td>\n",
       "      <td>18+  years</td>\n",
       "      <td>18+  years</td>\n",
       "    </tr>\n",
       "    <tr>\n",
       "      <th>2</th>\n",
       "      <td>Country</td>\n",
       "      <td>Both sexes</td>\n",
       "      <td>Male</td>\n",
       "      <td>Female</td>\n",
       "      <td>Both sexes</td>\n",
       "      <td>Male</td>\n",
       "      <td>Female</td>\n",
       "      <td>Both sexes</td>\n",
       "      <td>Male</td>\n",
       "      <td>Female</td>\n",
       "      <td>...</td>\n",
       "      <td>Female</td>\n",
       "      <td>Both sexes</td>\n",
       "      <td>Male</td>\n",
       "      <td>Female</td>\n",
       "      <td>Both sexes</td>\n",
       "      <td>Male</td>\n",
       "      <td>Female</td>\n",
       "      <td>Both sexes</td>\n",
       "      <td>Male</td>\n",
       "      <td>Female</td>\n",
       "    </tr>\n",
       "    <tr>\n",
       "      <th>3</th>\n",
       "      <td>Afghanistan</td>\n",
       "      <td>5.5 [3.4-8.1]</td>\n",
       "      <td>3.2 [1.3-6.4]</td>\n",
       "      <td>7.6 [4.3-12.4]</td>\n",
       "      <td>5.2 [3.3-7.7]</td>\n",
       "      <td>3.0 [1.3-6.0]</td>\n",
       "      <td>7.3 [4.1-11.8]</td>\n",
       "      <td>4.9 [3.1-7.3]</td>\n",
       "      <td>2.8 [1.2-5.6]</td>\n",
       "      <td>7.0 [4.0-11.3]</td>\n",
       "      <td>...</td>\n",
       "      <td>0.9 [0.3-2.2]</td>\n",
       "      <td>0.6 [0.2-1.2]</td>\n",
       "      <td>0.2 [0.0-0.7]</td>\n",
       "      <td>0.9 [0.3-2.1]</td>\n",
       "      <td>0.5 [0.2-1.1]</td>\n",
       "      <td>0.2 [0.0-0.7]</td>\n",
       "      <td>0.8 [0.2-2.0]</td>\n",
       "      <td>0.5 [0.2-1.1]</td>\n",
       "      <td>0.2 [0.0-0.6]</td>\n",
       "      <td>0.8 [0.2-2.0]</td>\n",
       "    </tr>\n",
       "  </tbody>\n",
       "</table>\n",
       "<p>4 rows × 127 columns</p>\n",
       "</div>"
      ],
      "text/plain": [
       "    Unnamed: 0                                               2016  \\\n",
       "0          NaN  Prevalence of obesity among adults, BMI &Great...   \n",
       "1          NaN                                         18+  years   \n",
       "2      Country                                         Both sexes   \n",
       "3  Afghanistan                                      5.5 [3.4-8.1]   \n",
       "\n",
       "                                              2016.1  \\\n",
       "0  Prevalence of obesity among adults, BMI &Great...   \n",
       "1                                         18+  years   \n",
       "2                                               Male   \n",
       "3                                      3.2 [1.3-6.4]   \n",
       "\n",
       "                                              2016.2  \\\n",
       "0  Prevalence of obesity among adults, BMI &Great...   \n",
       "1                                         18+  years   \n",
       "2                                             Female   \n",
       "3                                     7.6 [4.3-12.4]   \n",
       "\n",
       "                                                2015  \\\n",
       "0  Prevalence of obesity among adults, BMI &Great...   \n",
       "1                                         18+  years   \n",
       "2                                         Both sexes   \n",
       "3                                      5.2 [3.3-7.7]   \n",
       "\n",
       "                                              2015.1  \\\n",
       "0  Prevalence of obesity among adults, BMI &Great...   \n",
       "1                                         18+  years   \n",
       "2                                               Male   \n",
       "3                                      3.0 [1.3-6.0]   \n",
       "\n",
       "                                              2015.2  \\\n",
       "0  Prevalence of obesity among adults, BMI &Great...   \n",
       "1                                         18+  years   \n",
       "2                                             Female   \n",
       "3                                     7.3 [4.1-11.8]   \n",
       "\n",
       "                                                2014  \\\n",
       "0  Prevalence of obesity among adults, BMI &Great...   \n",
       "1                                         18+  years   \n",
       "2                                         Both sexes   \n",
       "3                                      4.9 [3.1-7.3]   \n",
       "\n",
       "                                              2014.1  \\\n",
       "0  Prevalence of obesity among adults, BMI &Great...   \n",
       "1                                         18+  years   \n",
       "2                                               Male   \n",
       "3                                      2.8 [1.2-5.6]   \n",
       "\n",
       "                                              2014.2  ...  \\\n",
       "0  Prevalence of obesity among adults, BMI &Great...  ...   \n",
       "1                                         18+  years  ...   \n",
       "2                                             Female  ...   \n",
       "3                                     7.0 [4.0-11.3]  ...   \n",
       "\n",
       "                                              1978.2  \\\n",
       "0  Prevalence of obesity among adults, BMI &Great...   \n",
       "1                                         18+  years   \n",
       "2                                             Female   \n",
       "3                                      0.9 [0.3-2.2]   \n",
       "\n",
       "                                                1977  \\\n",
       "0  Prevalence of obesity among adults, BMI &Great...   \n",
       "1                                         18+  years   \n",
       "2                                         Both sexes   \n",
       "3                                      0.6 [0.2-1.2]   \n",
       "\n",
       "                                              1977.1  \\\n",
       "0  Prevalence of obesity among adults, BMI &Great...   \n",
       "1                                         18+  years   \n",
       "2                                               Male   \n",
       "3                                      0.2 [0.0-0.7]   \n",
       "\n",
       "                                              1977.2  \\\n",
       "0  Prevalence of obesity among adults, BMI &Great...   \n",
       "1                                         18+  years   \n",
       "2                                             Female   \n",
       "3                                      0.9 [0.3-2.1]   \n",
       "\n",
       "                                                1976  \\\n",
       "0  Prevalence of obesity among adults, BMI &Great...   \n",
       "1                                         18+  years   \n",
       "2                                         Both sexes   \n",
       "3                                      0.5 [0.2-1.1]   \n",
       "\n",
       "                                              1976.1  \\\n",
       "0  Prevalence of obesity among adults, BMI &Great...   \n",
       "1                                         18+  years   \n",
       "2                                               Male   \n",
       "3                                      0.2 [0.0-0.7]   \n",
       "\n",
       "                                              1976.2  \\\n",
       "0  Prevalence of obesity among adults, BMI &Great...   \n",
       "1                                         18+  years   \n",
       "2                                             Female   \n",
       "3                                      0.8 [0.2-2.0]   \n",
       "\n",
       "                                                1975  \\\n",
       "0  Prevalence of obesity among adults, BMI &Great...   \n",
       "1                                         18+  years   \n",
       "2                                         Both sexes   \n",
       "3                                      0.5 [0.2-1.1]   \n",
       "\n",
       "                                              1975.1  \\\n",
       "0  Prevalence of obesity among adults, BMI &Great...   \n",
       "1                                         18+  years   \n",
       "2                                               Male   \n",
       "3                                      0.2 [0.0-0.6]   \n",
       "\n",
       "                                              1975.2  \n",
       "0  Prevalence of obesity among adults, BMI &Great...  \n",
       "1                                         18+  years  \n",
       "2                                             Female  \n",
       "3                                      0.8 [0.2-2.0]  \n",
       "\n",
       "[4 rows x 127 columns]"
      ]
     },
     "execution_count": 3,
     "metadata": {},
     "output_type": "execute_result"
    }
   ],
   "source": [
    "df.head(4)"
   ]
  },
  {
   "cell_type": "code",
   "execution_count": 4,
   "metadata": {},
   "outputs": [
    {
     "data": {
      "text/plain": [
       "Index(['Unnamed: 0', '2016', '2016.1', '2016.2', '2015', '2015.1', '2015.2',\n",
       "       '2014', '2014.1', '2014.2',\n",
       "       ...\n",
       "       '1978.2', '1977', '1977.1', '1977.2', '1976', '1976.1', '1976.2',\n",
       "       '1975', '1975.1', '1975.2'],\n",
       "      dtype='object', length=127)"
      ]
     },
     "execution_count": 4,
     "metadata": {},
     "output_type": "execute_result"
    }
   ],
   "source": [
    "df.columns"
   ]
  },
  {
   "cell_type": "code",
   "execution_count": 5,
   "metadata": {},
   "outputs": [],
   "source": [
    "#df=data.copy()\n",
    "#df.rename(columns={'Unnamed: 0':'country'},inplace=True)\n",
    "#df=df.melt(id_vars=['country'],var_name='year')"
   ]
  },
  {
   "cell_type": "code",
   "execution_count": 5,
   "metadata": {},
   "outputs": [],
   "source": [
    "#Copying this original dataframe to another place\n",
    "dfc=df.copy()"
   ]
  },
  {
   "cell_type": "code",
   "execution_count": 6,
   "metadata": {},
   "outputs": [],
   "source": [
    "#Rename the columns\n",
    "\n",
    "df.rename(columns={'Unnamed: 0':'country'},inplace=True)"
   ]
  },
  {
   "cell_type": "code",
   "execution_count": 7,
   "metadata": {},
   "outputs": [],
   "source": [
    "#https://pandas.pydata.org/pandas-docs/stable/reference/api/pandas.melt.html?highlight=melt#pandas.melt\n",
    "\n",
    "#Unpivot a DataFrame from wide to long format, optionally leaving identifiers set.\n",
    "\n",
    "#This function is useful to massage a DataFrame into a format where one or more columns are identifier\n",
    "#variables (id_vars), while all other columns, considered measured variables (value_vars),\n",
    "#are “unpivoted” to the row axis, leaving just two non-identifier columns, ‘variable’ and ‘value’.\n",
    "\n",
    "df=df.melt(id_vars=['country'],var_name='year')"
   ]
  },
  {
   "cell_type": "code",
   "execution_count": 9,
   "metadata": {
    "scrolled": true
   },
   "outputs": [
    {
     "data": {
      "text/plain": [
       "(24948, 3)"
      ]
     },
     "execution_count": 9,
     "metadata": {},
     "output_type": "execute_result"
    }
   ],
   "source": [
    "df.shape"
   ]
  },
  {
   "cell_type": "code",
   "execution_count": 11,
   "metadata": {},
   "outputs": [],
   "source": [
    "df=df.drop([0,1,2])"
   ]
  },
  {
   "cell_type": "code",
   "execution_count": 12,
   "metadata": {
    "collapsed": true
   },
   "outputs": [
    {
     "ename": "ValueError",
     "evalue": "Columns must be same length as key",
     "output_type": "error",
     "traceback": [
      "\u001b[1;31m---------------------------------------------------------------------------\u001b[0m",
      "\u001b[1;31mValueError\u001b[0m                                Traceback (most recent call last)",
      "\u001b[1;32m<ipython-input-12-7fd5d19e86f9>\u001b[0m in \u001b[0;36m<module>\u001b[1;34m\u001b[0m\n\u001b[0;32m      1\u001b[0m \u001b[1;31m#https://pandas.pydata.org/pandas-docs/stable/reference/api/pandas.Series.str.split.html?highlight=split\u001b[0m\u001b[1;33m\u001b[0m\u001b[1;33m\u001b[0m\u001b[1;33m\u001b[0m\u001b[0m\n\u001b[0;32m      2\u001b[0m \u001b[1;33m\u001b[0m\u001b[0m\n\u001b[1;32m----> 3\u001b[1;33m \u001b[0mdf\u001b[0m\u001b[1;33m[\u001b[0m\u001b[1;33m[\u001b[0m\u001b[1;34m'year'\u001b[0m\u001b[1;33m,\u001b[0m\u001b[1;34m'gender'\u001b[0m\u001b[1;33m]\u001b[0m\u001b[1;33m]\u001b[0m\u001b[1;33m=\u001b[0m\u001b[0mdf\u001b[0m\u001b[1;33m[\u001b[0m\u001b[1;34m'year'\u001b[0m\u001b[1;33m]\u001b[0m\u001b[1;33m.\u001b[0m\u001b[0mstr\u001b[0m\u001b[1;33m.\u001b[0m\u001b[0msplit\u001b[0m\u001b[1;33m(\u001b[0m\u001b[1;34m'.'\u001b[0m\u001b[1;33m,\u001b[0m\u001b[0mexpand\u001b[0m\u001b[1;33m=\u001b[0m\u001b[1;32mTrue\u001b[0m\u001b[1;33m)\u001b[0m\u001b[1;33m\u001b[0m\u001b[1;33m\u001b[0m\u001b[0m\n\u001b[0m",
      "\u001b[1;32m~\\anaconda3\\lib\\site-packages\\pandas\\core\\frame.py\u001b[0m in \u001b[0;36m__setitem__\u001b[1;34m(self, key, value)\u001b[0m\n\u001b[0;32m   3035\u001b[0m             \u001b[0mself\u001b[0m\u001b[1;33m.\u001b[0m\u001b[0m_setitem_frame\u001b[0m\u001b[1;33m(\u001b[0m\u001b[0mkey\u001b[0m\u001b[1;33m,\u001b[0m \u001b[0mvalue\u001b[0m\u001b[1;33m)\u001b[0m\u001b[1;33m\u001b[0m\u001b[1;33m\u001b[0m\u001b[0m\n\u001b[0;32m   3036\u001b[0m         \u001b[1;32melif\u001b[0m \u001b[0misinstance\u001b[0m\u001b[1;33m(\u001b[0m\u001b[0mkey\u001b[0m\u001b[1;33m,\u001b[0m \u001b[1;33m(\u001b[0m\u001b[0mSeries\u001b[0m\u001b[1;33m,\u001b[0m \u001b[0mnp\u001b[0m\u001b[1;33m.\u001b[0m\u001b[0mndarray\u001b[0m\u001b[1;33m,\u001b[0m \u001b[0mlist\u001b[0m\u001b[1;33m,\u001b[0m \u001b[0mIndex\u001b[0m\u001b[1;33m)\u001b[0m\u001b[1;33m)\u001b[0m\u001b[1;33m:\u001b[0m\u001b[1;33m\u001b[0m\u001b[1;33m\u001b[0m\u001b[0m\n\u001b[1;32m-> 3037\u001b[1;33m             \u001b[0mself\u001b[0m\u001b[1;33m.\u001b[0m\u001b[0m_setitem_array\u001b[0m\u001b[1;33m(\u001b[0m\u001b[0mkey\u001b[0m\u001b[1;33m,\u001b[0m \u001b[0mvalue\u001b[0m\u001b[1;33m)\u001b[0m\u001b[1;33m\u001b[0m\u001b[1;33m\u001b[0m\u001b[0m\n\u001b[0m\u001b[0;32m   3038\u001b[0m         \u001b[1;32melse\u001b[0m\u001b[1;33m:\u001b[0m\u001b[1;33m\u001b[0m\u001b[1;33m\u001b[0m\u001b[0m\n\u001b[0;32m   3039\u001b[0m             \u001b[1;31m# set column\u001b[0m\u001b[1;33m\u001b[0m\u001b[1;33m\u001b[0m\u001b[1;33m\u001b[0m\u001b[0m\n",
      "\u001b[1;32m~\\anaconda3\\lib\\site-packages\\pandas\\core\\frame.py\u001b[0m in \u001b[0;36m_setitem_array\u001b[1;34m(self, key, value)\u001b[0m\n\u001b[0;32m   3061\u001b[0m             \u001b[1;32mif\u001b[0m \u001b[0misinstance\u001b[0m\u001b[1;33m(\u001b[0m\u001b[0mvalue\u001b[0m\u001b[1;33m,\u001b[0m \u001b[0mDataFrame\u001b[0m\u001b[1;33m)\u001b[0m\u001b[1;33m:\u001b[0m\u001b[1;33m\u001b[0m\u001b[1;33m\u001b[0m\u001b[0m\n\u001b[0;32m   3062\u001b[0m                 \u001b[1;32mif\u001b[0m \u001b[0mlen\u001b[0m\u001b[1;33m(\u001b[0m\u001b[0mvalue\u001b[0m\u001b[1;33m.\u001b[0m\u001b[0mcolumns\u001b[0m\u001b[1;33m)\u001b[0m \u001b[1;33m!=\u001b[0m \u001b[0mlen\u001b[0m\u001b[1;33m(\u001b[0m\u001b[0mkey\u001b[0m\u001b[1;33m)\u001b[0m\u001b[1;33m:\u001b[0m\u001b[1;33m\u001b[0m\u001b[1;33m\u001b[0m\u001b[0m\n\u001b[1;32m-> 3063\u001b[1;33m                     \u001b[1;32mraise\u001b[0m \u001b[0mValueError\u001b[0m\u001b[1;33m(\u001b[0m\u001b[1;34m\"Columns must be same length as key\"\u001b[0m\u001b[1;33m)\u001b[0m\u001b[1;33m\u001b[0m\u001b[1;33m\u001b[0m\u001b[0m\n\u001b[0m\u001b[0;32m   3064\u001b[0m                 \u001b[1;32mfor\u001b[0m \u001b[0mk1\u001b[0m\u001b[1;33m,\u001b[0m \u001b[0mk2\u001b[0m \u001b[1;32min\u001b[0m \u001b[0mzip\u001b[0m\u001b[1;33m(\u001b[0m\u001b[0mkey\u001b[0m\u001b[1;33m,\u001b[0m \u001b[0mvalue\u001b[0m\u001b[1;33m.\u001b[0m\u001b[0mcolumns\u001b[0m\u001b[1;33m)\u001b[0m\u001b[1;33m:\u001b[0m\u001b[1;33m\u001b[0m\u001b[1;33m\u001b[0m\u001b[0m\n\u001b[0;32m   3065\u001b[0m                     \u001b[0mself\u001b[0m\u001b[1;33m[\u001b[0m\u001b[0mk1\u001b[0m\u001b[1;33m]\u001b[0m \u001b[1;33m=\u001b[0m \u001b[0mvalue\u001b[0m\u001b[1;33m[\u001b[0m\u001b[0mk2\u001b[0m\u001b[1;33m]\u001b[0m\u001b[1;33m\u001b[0m\u001b[1;33m\u001b[0m\u001b[0m\n",
      "\u001b[1;31mValueError\u001b[0m: Columns must be same length as key"
     ]
    }
   ],
   "source": [
    "#https://pandas.pydata.org/pandas-docs/stable/reference/api/pandas.Series.str.split.html?highlight=split\n",
    "\n",
    "df[['year','gender']]=df['year'].str.split('.',expand=True)"
   ]
  },
  {
   "cell_type": "code",
   "execution_count": 13,
   "metadata": {},
   "outputs": [
    {
     "data": {
      "text/html": [
       "<div>\n",
       "<style scoped>\n",
       "    .dataframe tbody tr th:only-of-type {\n",
       "        vertical-align: middle;\n",
       "    }\n",
       "\n",
       "    .dataframe tbody tr th {\n",
       "        vertical-align: top;\n",
       "    }\n",
       "\n",
       "    .dataframe thead th {\n",
       "        text-align: right;\n",
       "    }\n",
       "</style>\n",
       "<table border=\"1\" class=\"dataframe\">\n",
       "  <thead>\n",
       "    <tr style=\"text-align: right;\">\n",
       "      <th></th>\n",
       "      <th>country</th>\n",
       "      <th>year</th>\n",
       "      <th>value</th>\n",
       "      <th>gender</th>\n",
       "    </tr>\n",
       "  </thead>\n",
       "  <tbody>\n",
       "    <tr>\n",
       "      <th>3</th>\n",
       "      <td>Afghanistan</td>\n",
       "      <td>2016</td>\n",
       "      <td>5.5 [3.4-8.1]</td>\n",
       "      <td>None</td>\n",
       "    </tr>\n",
       "    <tr>\n",
       "      <th>4</th>\n",
       "      <td>Albania</td>\n",
       "      <td>2016</td>\n",
       "      <td>21.7 [17.0-26.7]</td>\n",
       "      <td>None</td>\n",
       "    </tr>\n",
       "    <tr>\n",
       "      <th>5</th>\n",
       "      <td>Algeria</td>\n",
       "      <td>2016</td>\n",
       "      <td>27.4 [22.5-32.7]</td>\n",
       "      <td>None</td>\n",
       "    </tr>\n",
       "    <tr>\n",
       "      <th>6</th>\n",
       "      <td>Andorra</td>\n",
       "      <td>2016</td>\n",
       "      <td>25.6 [20.1-31.3]</td>\n",
       "      <td>None</td>\n",
       "    </tr>\n",
       "    <tr>\n",
       "      <th>7</th>\n",
       "      <td>Angola</td>\n",
       "      <td>2016</td>\n",
       "      <td>8.2 [5.1-12.2]</td>\n",
       "      <td>None</td>\n",
       "    </tr>\n",
       "    <tr>\n",
       "      <th>...</th>\n",
       "      <td>...</td>\n",
       "      <td>...</td>\n",
       "      <td>...</td>\n",
       "      <td>...</td>\n",
       "    </tr>\n",
       "    <tr>\n",
       "      <th>24943</th>\n",
       "      <td>Venezuela (Bolivarian Republic of)</td>\n",
       "      <td>1975</td>\n",
       "      <td>13.2 [7.1-20.7]</td>\n",
       "      <td>2</td>\n",
       "    </tr>\n",
       "    <tr>\n",
       "      <th>24944</th>\n",
       "      <td>Viet Nam</td>\n",
       "      <td>1975</td>\n",
       "      <td>0.2 [0.1-0.5]</td>\n",
       "      <td>2</td>\n",
       "    </tr>\n",
       "    <tr>\n",
       "      <th>24945</th>\n",
       "      <td>Yemen</td>\n",
       "      <td>1975</td>\n",
       "      <td>4.2 [1.5-8.9]</td>\n",
       "      <td>2</td>\n",
       "    </tr>\n",
       "    <tr>\n",
       "      <th>24946</th>\n",
       "      <td>Zambia</td>\n",
       "      <td>1975</td>\n",
       "      <td>2.5 [1.0-5.1]</td>\n",
       "      <td>2</td>\n",
       "    </tr>\n",
       "    <tr>\n",
       "      <th>24947</th>\n",
       "      <td>Zimbabwe</td>\n",
       "      <td>1975</td>\n",
       "      <td>6.7 [3.0-12.2]</td>\n",
       "      <td>2</td>\n",
       "    </tr>\n",
       "  </tbody>\n",
       "</table>\n",
       "<p>24945 rows × 4 columns</p>\n",
       "</div>"
      ],
      "text/plain": [
       "                                  country  year             value gender\n",
       "3                             Afghanistan  2016     5.5 [3.4-8.1]   None\n",
       "4                                 Albania  2016  21.7 [17.0-26.7]   None\n",
       "5                                 Algeria  2016  27.4 [22.5-32.7]   None\n",
       "6                                 Andorra  2016  25.6 [20.1-31.3]   None\n",
       "7                                  Angola  2016    8.2 [5.1-12.2]   None\n",
       "...                                   ...   ...               ...    ...\n",
       "24943  Venezuela (Bolivarian Republic of)  1975   13.2 [7.1-20.7]      2\n",
       "24944                            Viet Nam  1975     0.2 [0.1-0.5]      2\n",
       "24945                               Yemen  1975     4.2 [1.5-8.9]      2\n",
       "24946                              Zambia  1975     2.5 [1.0-5.1]      2\n",
       "24947                            Zimbabwe  1975    6.7 [3.0-12.2]      2\n",
       "\n",
       "[24945 rows x 4 columns]"
      ]
     },
     "execution_count": 13,
     "metadata": {},
     "output_type": "execute_result"
    }
   ],
   "source": [
    "df"
   ]
  },
  {
   "cell_type": "code",
   "execution_count": 14,
   "metadata": {},
   "outputs": [],
   "source": [
    "#reseting indexes\n",
    "df=df.reset_index(drop=True)"
   ]
  },
  {
   "cell_type": "code",
   "execution_count": 15,
   "metadata": {},
   "outputs": [
    {
     "data": {
      "text/html": [
       "<div>\n",
       "<style scoped>\n",
       "    .dataframe tbody tr th:only-of-type {\n",
       "        vertical-align: middle;\n",
       "    }\n",
       "\n",
       "    .dataframe tbody tr th {\n",
       "        vertical-align: top;\n",
       "    }\n",
       "\n",
       "    .dataframe thead th {\n",
       "        text-align: right;\n",
       "    }\n",
       "</style>\n",
       "<table border=\"1\" class=\"dataframe\">\n",
       "  <thead>\n",
       "    <tr style=\"text-align: right;\">\n",
       "      <th></th>\n",
       "      <th>country</th>\n",
       "      <th>year</th>\n",
       "      <th>value</th>\n",
       "      <th>gender</th>\n",
       "    </tr>\n",
       "  </thead>\n",
       "  <tbody>\n",
       "    <tr>\n",
       "      <th>0</th>\n",
       "      <td>Afghanistan</td>\n",
       "      <td>2016</td>\n",
       "      <td>5.5 [3.4-8.1]</td>\n",
       "      <td>both sex</td>\n",
       "    </tr>\n",
       "    <tr>\n",
       "      <th>1</th>\n",
       "      <td>Albania</td>\n",
       "      <td>2016</td>\n",
       "      <td>21.7 [17.0-26.7]</td>\n",
       "      <td>both sex</td>\n",
       "    </tr>\n",
       "    <tr>\n",
       "      <th>2</th>\n",
       "      <td>Algeria</td>\n",
       "      <td>2016</td>\n",
       "      <td>27.4 [22.5-32.7]</td>\n",
       "      <td>both sex</td>\n",
       "    </tr>\n",
       "    <tr>\n",
       "      <th>3</th>\n",
       "      <td>Andorra</td>\n",
       "      <td>2016</td>\n",
       "      <td>25.6 [20.1-31.3]</td>\n",
       "      <td>both sex</td>\n",
       "    </tr>\n",
       "    <tr>\n",
       "      <th>4</th>\n",
       "      <td>Angola</td>\n",
       "      <td>2016</td>\n",
       "      <td>8.2 [5.1-12.2]</td>\n",
       "      <td>both sex</td>\n",
       "    </tr>\n",
       "    <tr>\n",
       "      <th>...</th>\n",
       "      <td>...</td>\n",
       "      <td>...</td>\n",
       "      <td>...</td>\n",
       "      <td>...</td>\n",
       "    </tr>\n",
       "    <tr>\n",
       "      <th>24940</th>\n",
       "      <td>Venezuela (Bolivarian Republic of)</td>\n",
       "      <td>1975</td>\n",
       "      <td>13.2 [7.1-20.7]</td>\n",
       "      <td>female</td>\n",
       "    </tr>\n",
       "    <tr>\n",
       "      <th>24941</th>\n",
       "      <td>Viet Nam</td>\n",
       "      <td>1975</td>\n",
       "      <td>0.2 [0.1-0.5]</td>\n",
       "      <td>female</td>\n",
       "    </tr>\n",
       "    <tr>\n",
       "      <th>24942</th>\n",
       "      <td>Yemen</td>\n",
       "      <td>1975</td>\n",
       "      <td>4.2 [1.5-8.9]</td>\n",
       "      <td>female</td>\n",
       "    </tr>\n",
       "    <tr>\n",
       "      <th>24943</th>\n",
       "      <td>Zambia</td>\n",
       "      <td>1975</td>\n",
       "      <td>2.5 [1.0-5.1]</td>\n",
       "      <td>female</td>\n",
       "    </tr>\n",
       "    <tr>\n",
       "      <th>24944</th>\n",
       "      <td>Zimbabwe</td>\n",
       "      <td>1975</td>\n",
       "      <td>6.7 [3.0-12.2]</td>\n",
       "      <td>female</td>\n",
       "    </tr>\n",
       "  </tbody>\n",
       "</table>\n",
       "<p>24945 rows × 4 columns</p>\n",
       "</div>"
      ],
      "text/plain": [
       "                                  country  year             value    gender\n",
       "0                             Afghanistan  2016     5.5 [3.4-8.1]  both sex\n",
       "1                                 Albania  2016  21.7 [17.0-26.7]  both sex\n",
       "2                                 Algeria  2016  27.4 [22.5-32.7]  both sex\n",
       "3                                 Andorra  2016  25.6 [20.1-31.3]  both sex\n",
       "4                                  Angola  2016    8.2 [5.1-12.2]  both sex\n",
       "...                                   ...   ...               ...       ...\n",
       "24940  Venezuela (Bolivarian Republic of)  1975   13.2 [7.1-20.7]    female\n",
       "24941                            Viet Nam  1975     0.2 [0.1-0.5]    female\n",
       "24942                               Yemen  1975     4.2 [1.5-8.9]    female\n",
       "24943                              Zambia  1975     2.5 [1.0-5.1]    female\n",
       "24944                            Zimbabwe  1975    6.7 [3.0-12.2]    female\n",
       "\n",
       "[24945 rows x 4 columns]"
      ]
     },
     "execution_count": 15,
     "metadata": {},
     "output_type": "execute_result"
    }
   ],
   "source": [
    "df['gender']=df['gender'].map({None:'both sex','1':'male','2':'female'})\n",
    "df"
   ]
  },
  {
   "cell_type": "code",
   "execution_count": 16,
   "metadata": {},
   "outputs": [],
   "source": [
    "#df.rename(columns={'value':'BMI'},inplace=True)\n",
    "df1=df.copy()\n",
    "#df['BMI']=df1['BMI'].str.split('[',expand=True)[0]\n",
    "#df['BMI_lower_esti']=df1['BMI'].str.split('[',expand=True)[1].str.split('-',expand=True)[0]\n",
    "#df['BMI_upper_esti']=df1['BMI'].str.split('[',expand=True)[1].str.split('-',expand=True)[1].str.split(']',expand=True)[0]\n",
    "#df=df[['country','year','gender','BMI','BMI_upper_esti','BMI_lower_esti']] #reset the column sequence\n",
    "#df"
   ]
  },
  {
   "cell_type": "code",
   "execution_count": 17,
   "metadata": {},
   "outputs": [],
   "source": [
    "df.rename(columns={'value':'BMI'},inplace=True)"
   ]
  },
  {
   "cell_type": "code",
   "execution_count": 21,
   "metadata": {},
   "outputs": [],
   "source": [
    "df1.rename(columns={'value':'BMI'},inplace=True)"
   ]
  },
  {
   "cell_type": "code",
   "execution_count": 22,
   "metadata": {},
   "outputs": [],
   "source": [
    "df['BMI']=df1['BMI'].str.split('[',expand=True)[0]"
   ]
  },
  {
   "cell_type": "code",
   "execution_count": 23,
   "metadata": {},
   "outputs": [],
   "source": [
    "df['BMI_lower_esti']=df1['BMI'].str.split('[',expand=True)[1].str.split('-',expand=True)[0]"
   ]
  },
  {
   "cell_type": "code",
   "execution_count": 24,
   "metadata": {},
   "outputs": [],
   "source": [
    "df['BMI_upper_esti']=df1['BMI'].str.split('[',expand=True)[1].str.split('-',expand=True)[1].str.split(']',expand=True)[0]"
   ]
  },
  {
   "cell_type": "code",
   "execution_count": 25,
   "metadata": {},
   "outputs": [],
   "source": [
    "df=df[['country','year','gender','BMI','BMI_upper_esti','BMI_lower_esti']]"
   ]
  },
  {
   "cell_type": "code",
   "execution_count": 26,
   "metadata": {},
   "outputs": [
    {
     "data": {
      "text/plain": [
       "country           250\n",
       "year                0\n",
       "gender              0\n",
       "BMI                 0\n",
       "BMI_upper_esti    879\n",
       "BMI_lower_esti    879\n",
       "dtype: int64"
      ]
     },
     "execution_count": 26,
     "metadata": {},
     "output_type": "execute_result"
    }
   ],
   "source": [
    "df.isna().sum()"
   ]
  },
  {
   "cell_type": "code",
   "execution_count": 27,
   "metadata": {},
   "outputs": [],
   "source": [
    "df1=df.dropna(subset=['country'])"
   ]
  },
  {
   "cell_type": "code",
   "execution_count": 28,
   "metadata": {},
   "outputs": [],
   "source": [
    "df1=df1.drop(df[df.country=='Country'].index)"
   ]
  },
  {
   "cell_type": "code",
   "execution_count": 29,
   "metadata": {},
   "outputs": [
    {
     "data": {
      "text/plain": [
       "2008"
      ]
     },
     "execution_count": 29,
     "metadata": {},
     "output_type": "execute_result"
    }
   ],
   "source": [
    "df.isnull().sum().sum()"
   ]
  },
  {
   "cell_type": "code",
   "execution_count": 30,
   "metadata": {},
   "outputs": [
    {
     "data": {
      "text/plain": [
       "NaN    879\n",
       "1.3    141\n",
       "1.2    140\n",
       "1.6    135\n",
       "1.4    134\n",
       "Name: BMI_upper_esti, dtype: int64"
      ]
     },
     "execution_count": 30,
     "metadata": {},
     "output_type": "execute_result"
    }
   ],
   "source": [
    "df.BMI_upper_esti.value_counts(dropna=False).head()"
   ]
  },
  {
   "cell_type": "code",
   "execution_count": 31,
   "metadata": {},
   "outputs": [
    {
     "data": {
      "text/plain": [
       "NaN    879\n",
       "0.1    502\n",
       "0.2    428\n",
       "0.3    384\n",
       "0.4    362\n",
       "Name: BMI_lower_esti, dtype: int64"
      ]
     },
     "execution_count": 31,
     "metadata": {},
     "output_type": "execute_result"
    }
   ],
   "source": [
    "df.BMI_lower_esti.value_counts(dropna=False).head()"
   ]
  },
  {
   "cell_type": "code",
   "execution_count": 32,
   "metadata": {},
   "outputs": [
    {
     "data": {
      "text/plain": [
       "male        8316\n",
       "female      8316\n",
       "both sex    8313\n",
       "Name: gender, dtype: int64"
      ]
     },
     "execution_count": 32,
     "metadata": {},
     "output_type": "execute_result"
    }
   ],
   "source": [
    "df.gender.value_counts(dropna=False)"
   ]
  },
  {
   "cell_type": "code",
   "execution_count": 24,
   "metadata": {},
   "outputs": [
    {
     "data": {
      "text/plain": [
       "country    250\n",
       "year         0\n",
       "BMI          0\n",
       "gender       0\n",
       "dtype: int64"
      ]
     },
     "execution_count": 24,
     "metadata": {},
     "output_type": "execute_result"
    }
   ],
   "source": [
    "df.isnull().sum()"
   ]
  },
  {
   "cell_type": "code",
   "execution_count": 52,
   "metadata": {},
   "outputs": [],
   "source": [
    "pys = pd.read_csv('Inpatient_Psychiatric_Facility_Quality_Measure_Data___by_Facility.csv')"
   ]
  },
  {
   "cell_type": "code",
   "execution_count": 36,
   "metadata": {},
   "outputs": [
    {
     "data": {
      "text/html": [
       "<div>\n",
       "<style scoped>\n",
       "    .dataframe tbody tr th:only-of-type {\n",
       "        vertical-align: middle;\n",
       "    }\n",
       "\n",
       "    .dataframe tbody tr th {\n",
       "        vertical-align: top;\n",
       "    }\n",
       "\n",
       "    .dataframe thead th {\n",
       "        text-align: right;\n",
       "    }\n",
       "</style>\n",
       "<table border=\"1\" class=\"dataframe\">\n",
       "  <thead>\n",
       "    <tr style=\"text-align: right;\">\n",
       "      <th></th>\n",
       "      <th>Provider_Number</th>\n",
       "      <th>Hospital_Name</th>\n",
       "      <th>Address</th>\n",
       "      <th>City</th>\n",
       "      <th>State</th>\n",
       "      <th>ZIP_Code</th>\n",
       "      <th>County_Name</th>\n",
       "      <th>HBIPS-2_Measure_Description</th>\n",
       "      <th>HBIPS-2_Overall_Rate_Per_1000</th>\n",
       "      <th>HBIPS-2_Overall_Num</th>\n",
       "      <th>...</th>\n",
       "      <th>IMM-2_Numerator</th>\n",
       "      <th>IMM-2_Denominator</th>\n",
       "      <th>IMM-2_Footnote</th>\n",
       "      <th>HCP_Measure_Description</th>\n",
       "      <th>HCP_%</th>\n",
       "      <th>HCP_Numerator</th>\n",
       "      <th>HCP_Denominator</th>\n",
       "      <th>HCP_Footnote</th>\n",
       "      <th>Flu_Season_Start_Date</th>\n",
       "      <th>Flu_Season_End_Date</th>\n",
       "    </tr>\n",
       "  </thead>\n",
       "  <tbody>\n",
       "    <tr>\n",
       "      <th>0</th>\n",
       "      <td>10007</td>\n",
       "      <td>MIZELL MEMORIAL HOSPITAL</td>\n",
       "      <td>702 N MAIN STREET PO BOX 1010</td>\n",
       "      <td>OPP</td>\n",
       "      <td>AL</td>\n",
       "      <td>36467</td>\n",
       "      <td>Covington</td>\n",
       "      <td>Hours of physical-restraint use</td>\n",
       "      <td>0.00</td>\n",
       "      <td>0.00</td>\n",
       "      <td>...</td>\n",
       "      <td>50</td>\n",
       "      <td>128</td>\n",
       "      <td>NaN</td>\n",
       "      <td>Healthcare Personnel Influenza Vaccination</td>\n",
       "      <td>54</td>\n",
       "      <td>15</td>\n",
       "      <td>28</td>\n",
       "      <td>NaN</td>\n",
       "      <td>10/01/2015</td>\n",
       "      <td>03/31/2016</td>\n",
       "    </tr>\n",
       "    <tr>\n",
       "      <th>1</th>\n",
       "      <td>10008</td>\n",
       "      <td>CRENSHAW COMMUNITY HOSPITAL</td>\n",
       "      <td>101 HOSPITAL CIRCLE</td>\n",
       "      <td>LUVERNE</td>\n",
       "      <td>AL</td>\n",
       "      <td>36049</td>\n",
       "      <td>Crenshaw</td>\n",
       "      <td>Hours of physical-restraint use</td>\n",
       "      <td>0.44</td>\n",
       "      <td>59.63</td>\n",
       "      <td>...</td>\n",
       "      <td>88</td>\n",
       "      <td>88</td>\n",
       "      <td>NaN</td>\n",
       "      <td>Healthcare Personnel Influenza Vaccination</td>\n",
       "      <td>34</td>\n",
       "      <td>15</td>\n",
       "      <td>44</td>\n",
       "      <td>NaN</td>\n",
       "      <td>10/01/2015</td>\n",
       "      <td>03/31/2016</td>\n",
       "    </tr>\n",
       "    <tr>\n",
       "      <th>2</th>\n",
       "      <td>10011</td>\n",
       "      <td>ST. VINCENT'S EAST</td>\n",
       "      <td>50 MEDICAL PARK EAST DRIVE</td>\n",
       "      <td>BIRMINGHAM</td>\n",
       "      <td>AL</td>\n",
       "      <td>35235</td>\n",
       "      <td>Jefferson</td>\n",
       "      <td>Hours of physical-restraint use</td>\n",
       "      <td>0.00</td>\n",
       "      <td>0.00</td>\n",
       "      <td>...</td>\n",
       "      <td>54</td>\n",
       "      <td>80</td>\n",
       "      <td>NaN</td>\n",
       "      <td>Healthcare Personnel Influenza Vaccination</td>\n",
       "      <td>42</td>\n",
       "      <td>14</td>\n",
       "      <td>33</td>\n",
       "      <td>NaN</td>\n",
       "      <td>10/01/2015</td>\n",
       "      <td>03/31/2016</td>\n",
       "    </tr>\n",
       "    <tr>\n",
       "      <th>3</th>\n",
       "      <td>10012</td>\n",
       "      <td>DEKALB REGIONAL MEDICAL CENTER</td>\n",
       "      <td>200 MED CENTER DRIVE</td>\n",
       "      <td>FORT PAYNE</td>\n",
       "      <td>AL</td>\n",
       "      <td>35968</td>\n",
       "      <td>DeKalb</td>\n",
       "      <td>Hours of physical-restraint use</td>\n",
       "      <td>0.00</td>\n",
       "      <td>0.00</td>\n",
       "      <td>...</td>\n",
       "      <td>105</td>\n",
       "      <td>106</td>\n",
       "      <td>NaN</td>\n",
       "      <td>Healthcare Personnel Influenza Vaccination</td>\n",
       "      <td>100</td>\n",
       "      <td>54</td>\n",
       "      <td>54</td>\n",
       "      <td>NaN</td>\n",
       "      <td>10/01/2015</td>\n",
       "      <td>03/31/2016</td>\n",
       "    </tr>\n",
       "    <tr>\n",
       "      <th>4</th>\n",
       "      <td>10016</td>\n",
       "      <td>SHELBY BAPTIST MEDICAL CENTER</td>\n",
       "      <td>1000 FIRST STREET NORTH</td>\n",
       "      <td>ALABASTER</td>\n",
       "      <td>AL</td>\n",
       "      <td>35007</td>\n",
       "      <td>Shelby</td>\n",
       "      <td>Hours of physical-restraint use</td>\n",
       "      <td>0.11</td>\n",
       "      <td>41.02</td>\n",
       "      <td>...</td>\n",
       "      <td>171</td>\n",
       "      <td>171</td>\n",
       "      <td>NaN</td>\n",
       "      <td>Healthcare Personnel Influenza Vaccination</td>\n",
       "      <td>71</td>\n",
       "      <td>65</td>\n",
       "      <td>92</td>\n",
       "      <td>NaN</td>\n",
       "      <td>10/01/2015</td>\n",
       "      <td>03/31/2016</td>\n",
       "    </tr>\n",
       "    <tr>\n",
       "      <th>...</th>\n",
       "      <td>...</td>\n",
       "      <td>...</td>\n",
       "      <td>...</td>\n",
       "      <td>...</td>\n",
       "      <td>...</td>\n",
       "      <td>...</td>\n",
       "      <td>...</td>\n",
       "      <td>...</td>\n",
       "      <td>...</td>\n",
       "      <td>...</td>\n",
       "      <td>...</td>\n",
       "      <td>...</td>\n",
       "      <td>...</td>\n",
       "      <td>...</td>\n",
       "      <td>...</td>\n",
       "      <td>...</td>\n",
       "      <td>...</td>\n",
       "      <td>...</td>\n",
       "      <td>...</td>\n",
       "      <td>...</td>\n",
       "      <td>...</td>\n",
       "    </tr>\n",
       "    <tr>\n",
       "      <th>1639</th>\n",
       "      <td>534001</td>\n",
       "      <td>WYOMING STATE HOSPITAL</td>\n",
       "      <td>831 HWY 150 SOUTH</td>\n",
       "      <td>EVANSTON</td>\n",
       "      <td>WY</td>\n",
       "      <td>82931</td>\n",
       "      <td>Uinta</td>\n",
       "      <td>Hours of physical-restraint use</td>\n",
       "      <td>NaN</td>\n",
       "      <td>NaN</td>\n",
       "      <td>...</td>\n",
       "      <td>Not Available</td>\n",
       "      <td>Not Available</td>\n",
       "      <td>5.0</td>\n",
       "      <td>Healthcare Personnel Influenza Vaccination</td>\n",
       "      <td>Not Available</td>\n",
       "      <td>Not Available</td>\n",
       "      <td>Not Available</td>\n",
       "      <td>5.0</td>\n",
       "      <td>10/01/2015</td>\n",
       "      <td>03/31/2016</td>\n",
       "    </tr>\n",
       "    <tr>\n",
       "      <th>1640</th>\n",
       "      <td>534004</td>\n",
       "      <td>WYOMING BEHAVIORAL INSTITUTE</td>\n",
       "      <td>2521 EAST 15TH STREET</td>\n",
       "      <td>CASPER</td>\n",
       "      <td>WY</td>\n",
       "      <td>82609</td>\n",
       "      <td>Natrona</td>\n",
       "      <td>Hours of physical-restraint use</td>\n",
       "      <td>0.04</td>\n",
       "      <td>23.35</td>\n",
       "      <td>...</td>\n",
       "      <td>301</td>\n",
       "      <td>304</td>\n",
       "      <td>NaN</td>\n",
       "      <td>Healthcare Personnel Influenza Vaccination</td>\n",
       "      <td>91</td>\n",
       "      <td>262</td>\n",
       "      <td>288</td>\n",
       "      <td>NaN</td>\n",
       "      <td>10/01/2015</td>\n",
       "      <td>03/31/2016</td>\n",
       "    </tr>\n",
       "    <tr>\n",
       "      <th>1641</th>\n",
       "      <td>670010</td>\n",
       "      <td>MAYHILL HOSPITAL</td>\n",
       "      <td>2809 SOUTH MAYHILL ROAD</td>\n",
       "      <td>DENTON</td>\n",
       "      <td>TX</td>\n",
       "      <td>76208</td>\n",
       "      <td>Denton</td>\n",
       "      <td>Hours of physical-restraint use</td>\n",
       "      <td>0.03</td>\n",
       "      <td>11.56</td>\n",
       "      <td>...</td>\n",
       "      <td>285</td>\n",
       "      <td>340</td>\n",
       "      <td>NaN</td>\n",
       "      <td>Healthcare Personnel Influenza Vaccination</td>\n",
       "      <td>59</td>\n",
       "      <td>115</td>\n",
       "      <td>194</td>\n",
       "      <td>NaN</td>\n",
       "      <td>10/01/2015</td>\n",
       "      <td>03/31/2016</td>\n",
       "    </tr>\n",
       "    <tr>\n",
       "      <th>1642</th>\n",
       "      <td>670072</td>\n",
       "      <td>HOPEBRIDGE HOSPITAL</td>\n",
       "      <td>5556 GASMER DRIVE</td>\n",
       "      <td>HOUSTON</td>\n",
       "      <td>TX</td>\n",
       "      <td>77035</td>\n",
       "      <td>Harris</td>\n",
       "      <td>Hours of physical-restraint use</td>\n",
       "      <td>0.01</td>\n",
       "      <td>5.11</td>\n",
       "      <td>...</td>\n",
       "      <td>0</td>\n",
       "      <td>2372</td>\n",
       "      <td>NaN</td>\n",
       "      <td>Healthcare Personnel Influenza Vaccination</td>\n",
       "      <td>23</td>\n",
       "      <td>57</td>\n",
       "      <td>249</td>\n",
       "      <td>NaN</td>\n",
       "      <td>10/01/2015</td>\n",
       "      <td>03/31/2016</td>\n",
       "    </tr>\n",
       "    <tr>\n",
       "      <th>1643</th>\n",
       "      <td>670093</td>\n",
       "      <td>ASPIRE BEHAVIORAL HEALTH OF CONROE, LLC</td>\n",
       "      <td>2006 SOUTH LOOP 336 WEST, SUITE 500</td>\n",
       "      <td>CONROE</td>\n",
       "      <td>TX</td>\n",
       "      <td>77304</td>\n",
       "      <td>Montgomery</td>\n",
       "      <td>Hours of physical-restraint use</td>\n",
       "      <td>0.00</td>\n",
       "      <td>0.08</td>\n",
       "      <td>...</td>\n",
       "      <td>Not Available</td>\n",
       "      <td>Not Available</td>\n",
       "      <td>1.0</td>\n",
       "      <td>Healthcare Personnel Influenza Vaccination</td>\n",
       "      <td>77</td>\n",
       "      <td>252</td>\n",
       "      <td>326</td>\n",
       "      <td>NaN</td>\n",
       "      <td>10/01/2015</td>\n",
       "      <td>03/31/2016</td>\n",
       "    </tr>\n",
       "  </tbody>\n",
       "</table>\n",
       "<p>1644 rows × 85 columns</p>\n",
       "</div>"
      ],
      "text/plain": [
       "      Provider_Number                            Hospital_Name  \\\n",
       "0               10007                 MIZELL MEMORIAL HOSPITAL   \n",
       "1               10008              CRENSHAW COMMUNITY HOSPITAL   \n",
       "2               10011                       ST. VINCENT'S EAST   \n",
       "3               10012           DEKALB REGIONAL MEDICAL CENTER   \n",
       "4               10016            SHELBY BAPTIST MEDICAL CENTER   \n",
       "...               ...                                      ...   \n",
       "1639           534001                   WYOMING STATE HOSPITAL   \n",
       "1640           534004             WYOMING BEHAVIORAL INSTITUTE   \n",
       "1641           670010                         MAYHILL HOSPITAL   \n",
       "1642           670072                      HOPEBRIDGE HOSPITAL   \n",
       "1643           670093  ASPIRE BEHAVIORAL HEALTH OF CONROE, LLC   \n",
       "\n",
       "                                   Address        City State  ZIP_Code  \\\n",
       "0            702 N MAIN STREET PO BOX 1010         OPP    AL     36467   \n",
       "1                     101 HOSPITAL CIRCLE      LUVERNE    AL     36049   \n",
       "2              50 MEDICAL PARK EAST DRIVE   BIRMINGHAM    AL     35235   \n",
       "3                    200 MED CENTER DRIVE   FORT PAYNE    AL     35968   \n",
       "4                 1000 FIRST STREET NORTH    ALABASTER    AL     35007   \n",
       "...                                    ...         ...   ...       ...   \n",
       "1639                    831 HWY 150 SOUTH     EVANSTON    WY     82931   \n",
       "1640                2521 EAST 15TH STREET       CASPER    WY     82609   \n",
       "1641              2809 SOUTH MAYHILL ROAD       DENTON    TX     76208   \n",
       "1642                    5556 GASMER DRIVE      HOUSTON    TX     77035   \n",
       "1643  2006 SOUTH LOOP 336 WEST, SUITE 500       CONROE    TX     77304   \n",
       "\n",
       "     County_Name      HBIPS-2_Measure_Description  \\\n",
       "0      Covington  Hours of physical-restraint use   \n",
       "1       Crenshaw  Hours of physical-restraint use   \n",
       "2      Jefferson  Hours of physical-restraint use   \n",
       "3         DeKalb  Hours of physical-restraint use   \n",
       "4         Shelby  Hours of physical-restraint use   \n",
       "...          ...                              ...   \n",
       "1639       Uinta  Hours of physical-restraint use   \n",
       "1640     Natrona  Hours of physical-restraint use   \n",
       "1641      Denton  Hours of physical-restraint use   \n",
       "1642      Harris  Hours of physical-restraint use   \n",
       "1643  Montgomery  Hours of physical-restraint use   \n",
       "\n",
       "      HBIPS-2_Overall_Rate_Per_1000  HBIPS-2_Overall_Num  ...  \\\n",
       "0                              0.00                 0.00  ...   \n",
       "1                              0.44                59.63  ...   \n",
       "2                              0.00                 0.00  ...   \n",
       "3                              0.00                 0.00  ...   \n",
       "4                              0.11                41.02  ...   \n",
       "...                             ...                  ...  ...   \n",
       "1639                            NaN                  NaN  ...   \n",
       "1640                           0.04                23.35  ...   \n",
       "1641                           0.03                11.56  ...   \n",
       "1642                           0.01                 5.11  ...   \n",
       "1643                           0.00                 0.08  ...   \n",
       "\n",
       "      IMM-2_Numerator  IMM-2_Denominator IMM-2_Footnote  \\\n",
       "0                  50                128            NaN   \n",
       "1                  88                 88            NaN   \n",
       "2                  54                 80            NaN   \n",
       "3                 105                106            NaN   \n",
       "4                 171                171            NaN   \n",
       "...               ...                ...            ...   \n",
       "1639    Not Available      Not Available            5.0   \n",
       "1640              301                304            NaN   \n",
       "1641              285                340            NaN   \n",
       "1642                0               2372            NaN   \n",
       "1643    Not Available      Not Available            1.0   \n",
       "\n",
       "                         HCP_Measure_Description          HCP_%  \\\n",
       "0     Healthcare Personnel Influenza Vaccination             54   \n",
       "1     Healthcare Personnel Influenza Vaccination             34   \n",
       "2     Healthcare Personnel Influenza Vaccination             42   \n",
       "3     Healthcare Personnel Influenza Vaccination            100   \n",
       "4     Healthcare Personnel Influenza Vaccination             71   \n",
       "...                                          ...            ...   \n",
       "1639  Healthcare Personnel Influenza Vaccination  Not Available   \n",
       "1640  Healthcare Personnel Influenza Vaccination             91   \n",
       "1641  Healthcare Personnel Influenza Vaccination             59   \n",
       "1642  Healthcare Personnel Influenza Vaccination             23   \n",
       "1643  Healthcare Personnel Influenza Vaccination             77   \n",
       "\n",
       "      HCP_Numerator  HCP_Denominator HCP_Footnote  Flu_Season_Start_Date  \\\n",
       "0                15               28          NaN             10/01/2015   \n",
       "1                15               44          NaN             10/01/2015   \n",
       "2                14               33          NaN             10/01/2015   \n",
       "3                54               54          NaN             10/01/2015   \n",
       "4                65               92          NaN             10/01/2015   \n",
       "...             ...              ...          ...                    ...   \n",
       "1639  Not Available    Not Available          5.0             10/01/2015   \n",
       "1640            262              288          NaN             10/01/2015   \n",
       "1641            115              194          NaN             10/01/2015   \n",
       "1642             57              249          NaN             10/01/2015   \n",
       "1643            252              326          NaN             10/01/2015   \n",
       "\n",
       "     Flu_Season_End_Date  \n",
       "0             03/31/2016  \n",
       "1             03/31/2016  \n",
       "2             03/31/2016  \n",
       "3             03/31/2016  \n",
       "4             03/31/2016  \n",
       "...                  ...  \n",
       "1639          03/31/2016  \n",
       "1640          03/31/2016  \n",
       "1641          03/31/2016  \n",
       "1642          03/31/2016  \n",
       "1643          03/31/2016  \n",
       "\n",
       "[1644 rows x 85 columns]"
      ]
     },
     "execution_count": 36,
     "metadata": {},
     "output_type": "execute_result"
    }
   ],
   "source": [
    "pyscho"
   ]
  },
  {
   "cell_type": "code",
   "execution_count": 33,
   "metadata": {},
   "outputs": [
    {
     "data": {
      "text/plain": [
       "(1644, 85)"
      ]
     },
     "execution_count": 33,
     "metadata": {},
     "output_type": "execute_result"
    }
   ],
   "source": [
    "pyscho.shape"
   ]
  },
  {
   "cell_type": "code",
   "execution_count": 40,
   "metadata": {},
   "outputs": [
    {
     "data": {
      "text/plain": [
       "Provider_Number                   0\n",
       "Hospital_Name                     0\n",
       "Address                           0\n",
       "City                              0\n",
       "State                             0\n",
       "ZIP_Code                          0\n",
       "County_Name                       0\n",
       "HBIPS-2_Measure_Description       0\n",
       "HBIPS-2_Overall_Rate_Per_1000    31\n",
       "HBIPS-2_Overall_Num              15\n",
       "dtype: int64"
      ]
     },
     "execution_count": 40,
     "metadata": {},
     "output_type": "execute_result"
    }
   ],
   "source": [
    "pyscho.isnull().sum()[0:10]"
   ]
  },
  {
   "cell_type": "code",
   "execution_count": 37,
   "metadata": {},
   "outputs": [
    {
     "data": {
      "text/plain": [
       "1644"
      ]
     },
     "execution_count": 37,
     "metadata": {},
     "output_type": "execute_result"
    }
   ],
   "source": [
    "len(pyscho)"
   ]
  },
  {
   "cell_type": "code",
   "execution_count": 44,
   "metadata": {},
   "outputs": [],
   "source": [
    "NAN=pyscho.isnull().sum()"
   ]
  },
  {
   "cell_type": "code",
   "execution_count": 47,
   "metadata": {},
   "outputs": [],
   "source": [
    "mis_val_percent = 100 * pyscho.isnull().sum() / len(pyscho)"
   ]
  },
  {
   "cell_type": "code",
   "execution_count": 48,
   "metadata": {},
   "outputs": [
    {
     "data": {
      "text/plain": [
       "Provider_Number           0.000000\n",
       "Hospital_Name             0.000000\n",
       "Address                   0.000000\n",
       "City                      0.000000\n",
       "State                     0.000000\n",
       "                           ...    \n",
       "HCP_Numerator             0.000000\n",
       "HCP_Denominator           0.000000\n",
       "HCP_Footnote             94.160584\n",
       "Flu_Season_Start_Date     0.000000\n",
       "Flu_Season_End_Date       0.000000\n",
       "Length: 85, dtype: float64"
      ]
     },
     "execution_count": 48,
     "metadata": {},
     "output_type": "execute_result"
    }
   ],
   "source": [
    "mis_val_percent"
   ]
  },
  {
   "cell_type": "code",
   "execution_count": 50,
   "metadata": {},
   "outputs": [],
   "source": [
    "mis_val_table = pd.concat([NAN, mis_val_percent], axis=1)"
   ]
  },
  {
   "cell_type": "code",
   "execution_count": 53,
   "metadata": {},
   "outputs": [],
   "source": [
    "def missing_values_table(df):\n",
    "        # Total missing values\n",
    "        mis_val = pys.isnull().sum()\n",
    "        \n",
    "        # Percentage of missing values\n",
    "        mis_val_percent = 100 * pys.isnull().sum() / len(pys)\n",
    "        \n",
    "        # Make a table with the results\n",
    "        mis_val_table = pd.concat([mis_val, mis_val_percent], axis=1)\n",
    "        \n",
    "        # Rename the columns\n",
    "        mis_val_table_ren_columns = mis_val_table.rename(\n",
    "        columns = {0 : 'Missing Values', 1 : '% of Total Values'})\n",
    "        \n",
    "        # Sort the table by percentage of missing descending\n",
    "        mis_val_table_ren_columns = mis_val_table_ren_columns[\n",
    "            mis_val_table_ren_columns.iloc[:,1] != 0].sort_values(\n",
    "        '% of Total Values', ascending=False).round(1)\n",
    "        \n",
    "        # Print some summary information\n",
    "        print (\"Your selected dataframe has \" + str(pys.shape[1]) + \" columns.\\n\"      \n",
    "            \"There are \" + str(mis_val_table_ren_columns.shape[0]) +\n",
    "              \" columns that have missing values.\")\n",
    "        \n",
    "        # Return the dataframe with missing information\n",
    "        return mis_val_table_ren_columns"
   ]
  },
  {
   "cell_type": "code",
   "execution_count": 83,
   "metadata": {},
   "outputs": [],
   "source": [
    "mis_value = df.isnull().sum()"
   ]
  },
  {
   "cell_type": "code",
   "execution_count": 87,
   "metadata": {},
   "outputs": [],
   "source": [
    "mis_value_percent =  df.isnull().sum() / len(df) * 100"
   ]
  },
  {
   "cell_type": "code",
   "execution_count": 94,
   "metadata": {},
   "outputs": [
    {
     "data": {
      "text/plain": [
       "country           1.002205\n",
       "year              0.000000\n",
       "gender            0.000000\n",
       "BMI               0.000000\n",
       "BMI_upper_esti    3.523752\n",
       "BMI_lower_esti    3.523752\n",
       "dtype: float64"
      ]
     },
     "execution_count": 94,
     "metadata": {},
     "output_type": "execute_result"
    }
   ],
   "source": [
    "mis_value/len(df) * 100"
   ]
  },
  {
   "cell_type": "code",
   "execution_count": 96,
   "metadata": {
    "scrolled": true
   },
   "outputs": [],
   "source": [
    "mis_value_table=pd.concat([mis_value,mis_value_percent],axis=1)"
   ]
  },
  {
   "cell_type": "code",
   "execution_count": 98,
   "metadata": {},
   "outputs": [],
   "source": [
    "mis_value_table=mis_value_table.rename(columns={0:'Missing Values',1:'% of Missing Values'})"
   ]
  },
  {
   "cell_type": "code",
   "execution_count": 114,
   "metadata": {},
   "outputs": [],
   "source": [
    "miss_value_ren_columns=mis_value_table[mis_value_table.iloc[:,1]!=0].sort_values('% of Missing Values',ascending=False).round(1)"
   ]
  },
  {
   "cell_type": "code",
   "execution_count": 112,
   "metadata": {},
   "outputs": [
    {
     "data": {
      "text/html": [
       "<div>\n",
       "<style scoped>\n",
       "    .dataframe tbody tr th:only-of-type {\n",
       "        vertical-align: middle;\n",
       "    }\n",
       "\n",
       "    .dataframe tbody tr th {\n",
       "        vertical-align: top;\n",
       "    }\n",
       "\n",
       "    .dataframe thead th {\n",
       "        text-align: right;\n",
       "    }\n",
       "</style>\n",
       "<table border=\"1\" class=\"dataframe\">\n",
       "  <thead>\n",
       "    <tr style=\"text-align: right;\">\n",
       "      <th></th>\n",
       "      <th>Missing Values</th>\n",
       "      <th>% of Missing Values</th>\n",
       "    </tr>\n",
       "  </thead>\n",
       "  <tbody>\n",
       "    <tr>\n",
       "      <th>country</th>\n",
       "      <td>250</td>\n",
       "      <td>1.002205</td>\n",
       "    </tr>\n",
       "    <tr>\n",
       "      <th>BMI_upper_esti</th>\n",
       "      <td>879</td>\n",
       "      <td>3.523752</td>\n",
       "    </tr>\n",
       "    <tr>\n",
       "      <th>BMI_lower_esti</th>\n",
       "      <td>879</td>\n",
       "      <td>3.523752</td>\n",
       "    </tr>\n",
       "  </tbody>\n",
       "</table>\n",
       "</div>"
      ],
      "text/plain": [
       "                Missing Values  % of Missing Values\n",
       "country                    250             1.002205\n",
       "BMI_upper_esti             879             3.523752\n",
       "BMI_lower_esti             879             3.523752"
      ]
     },
     "execution_count": 112,
     "metadata": {},
     "output_type": "execute_result"
    }
   ],
   "source": [
    "mis_value_table[mis_value_table.iloc[:,1]!=0]"
   ]
  },
  {
   "cell_type": "code",
   "execution_count": 124,
   "metadata": {},
   "outputs": [
    {
     "name": "stdout",
     "output_type": "stream",
     "text": [
      "your selected data frame has 6 columns.\n",
      "\n",
      "There are 3 columns have missing values\n"
     ]
    }
   ],
   "source": [
    "print('your selected data frame has ' + str(df.shape[1]) +' columns.\\n')\n",
    "print('There are '+str(len(miss_value_ren_columns))+' columns have missing values')"
   ]
  },
  {
   "cell_type": "code",
   "execution_count": null,
   "metadata": {},
   "outputs": [],
   "source": []
  }
 ],
 "metadata": {
  "kernelspec": {
   "display_name": "Python 3",
   "language": "python",
   "name": "python3"
  },
  "language_info": {
   "codemirror_mode": {
    "name": "ipython",
    "version": 3
   },
   "file_extension": ".py",
   "mimetype": "text/x-python",
   "name": "python",
   "nbconvert_exporter": "python",
   "pygments_lexer": "ipython3",
   "version": "3.7.9"
  }
 },
 "nbformat": 4,
 "nbformat_minor": 4
}
